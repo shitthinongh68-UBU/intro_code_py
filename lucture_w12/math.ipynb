{
 "cells": [
  {
   "cell_type": "code",
   "execution_count": 2,
   "id": "5518e92b",
   "metadata": {},
   "outputs": [],
   "source": [
    "import math"
   ]
  },
  {
   "cell_type": "markdown",
   "id": "412961db",
   "metadata": {},
   "source": [
    "สูตรหาสามเหลี่ยม\n",
    "$$\\frac {1}{2} \\ * ฐาน * สูง$$"
   ]
  },
  {
   "cell_type": "code",
   "execution_count": 3,
   "id": "c453df65",
   "metadata": {},
   "outputs": [
    {
     "name": "stdout",
     "output_type": "stream",
     "text": [
      "area of triangle is 10.00\n"
     ]
    }
   ],
   "source": [
    "b = float(input())\n",
    "h = float(input())\n",
    "\n",
    "area = 1/2*b*h\n",
    "\n",
    "print(f'area of triangle is {area:.2f}')"
   ]
  },
  {
   "cell_type": "markdown",
   "id": "9de467c4",
   "metadata": {},
   "source": [
    "สมการลำดับฟีโบนัชชี\n",
    "\n",
    "$$\n",
    "F(n) = \\begin{cases}\n",
    "    n & \\text{ถ้า } n < 0 \\\\\n",
    "    F(n-1) + F(n-2) & \\text{ถ้า } n >= 2 \n",
    "\\end{cases}\n",
    "$$"
   ]
  },
  {
   "cell_type": "code",
   "execution_count": 4,
   "id": "b54698b9",
   "metadata": {},
   "outputs": [
    {
     "name": "stdout",
     "output_type": "stream",
     "text": [
      "102334155\n"
     ]
    }
   ],
   "source": [
    "def fibo(n):\n",
    "    if n < 2:\n",
    "        return n\n",
    "    else:\n",
    "        return fibo(n - 1) + fibo(n - 2)\n",
    "\n",
    "n = int(input())\n",
    "print(fibo(n))"
   ]
  }
 ],
 "metadata": {
  "kernelspec": {
   "display_name": "Python 3",
   "language": "python",
   "name": "python3"
  },
  "language_info": {
   "codemirror_mode": {
    "name": "ipython",
    "version": 3
   },
   "file_extension": ".py",
   "mimetype": "text/x-python",
   "name": "python",
   "nbconvert_exporter": "python",
   "pygments_lexer": "ipython3",
   "version": "3.13.7"
  }
 },
 "nbformat": 4,
 "nbformat_minor": 5
}
